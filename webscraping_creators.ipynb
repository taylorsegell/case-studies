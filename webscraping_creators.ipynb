{
 "cells": [
  {
   "cell_type": "code",
   "execution_count": 122,
   "metadata": {},
   "outputs": [
    {
     "name": "stderr",
     "output_type": "stream",
     "text": [
      "/var/folders/33/1n_h2mgd3gggc3t11hwwsbzm0000gn/T/ipykernel_58207/2647885842.py:10: DeprecationWarning: executable_path has been deprecated, please pass in a Service object\n",
      "  driver = webdriver.Chrome(executable_path = DRIVER_PATH)\n"
     ]
    }
   ],
   "source": [
    "import unittest\n",
    "from selenium.webdriver.common.by import By\n",
    "from selenium import webdriver\n",
    "from selenium.webdriver.common.keys import Keys\n",
    "from selenium.webdriver.support.ui import WebDriverWait\n",
    "from selenium.webdriver.support import expected_conditions as EC\n",
    "import pandas as pd\n",
    "\n",
    "DRIVER_PATH = '/Users/taylorsegell/.wdm/drivers/chromedriver/mac64/97.0.4692.71/chromedriver'\n",
    "driver = webdriver.Chrome(executable_path = DRIVER_PATH)\n",
    "\n",
    "driver.get('https://en.wikipedia.org/wiki/List_of_most-subscribed_YouTube_channels')\n",
    "driver.get('https://en.wikipedia.org/wiki/List_of_most-subscribed_YouTube_channels')\n",
    "\n",
    "# I had to sort the columns to ensure none of the colspan on the orginial format would mess with my columns.\n",
    "country_button = driver.find_element(By.XPATH,'//*[@id=\"mw-content-text\"]/div[1]/table[1]/thead/tr/th[6]')\n",
    "country_button.click()\n",
    "driver.implicitly_wait(3) \n",
    "table =  driver.find_element_by_xpath(\"//*[@id='mw-content-text']/div[1]/table[1]\")\n",
    "name = []\n",
    "for row in table.find_elements(By.XPATH,(\".//tr\")):\n",
    "    try:\n",
    "        n = [td.text for td in row.find_elements(By.XPATH,\".//td[2][text()]\")]\n",
    "    except:\n",
    "        n = \"None\"\n",
    "    name.append(n)\n",
    "\n",
    "country =[]\n",
    "for row in table.find_elements(By.XPATH,(\".//tr\")):\n",
    "    try:\n",
    "        c = [td.text for td in row.find_elements(By.XPATH,\".//td[7][text()]\")]\n",
    "    except:\n",
    "        c = \"None\"\n",
    "    country.append(c)\n",
    "\n",
    "subs =[]\n",
    "for row in table.find_elements(By.XPATH,(\".//tr\")):\n",
    "    try:\n",
    "        s = [td.text for td in row.find_elements(By.XPATH,\".//td[4][text()]\")]\n",
    "    except:\n",
    "        s = \"None\"\n",
    "    subs.append(s)\n",
    "\n",
    "name = pd.DataFrame(name)\n",
    "country = pd.DataFrame(country)\n",
    "subs = pd.DataFrame(subs)\n",
    "\n",
    "frames = [name, country, subs]\n",
    "data = pd.concat(frames, axis=1)\n",
    "data.drop([0], inplace=True)\n",
    "data.columns = ['channel_title', 'subscribers', 'country_from']\n",
    "data.to_csv('content_creators.csv')"
   ]
  }
 ],
 "metadata": {
  "interpreter": {
   "hash": "3d597f4c481aa0f25dceb95d2a0067e73c0966dcbd003d741d821a7208527ecf"
  },
  "kernelspec": {
   "display_name": "Python 3.9.5 64-bit ('base': conda)",
   "language": "python",
   "name": "python3"
  },
  "language_info": {
   "codemirror_mode": {
    "name": "ipython",
    "version": 3
   },
   "file_extension": ".py",
   "mimetype": "text/x-python",
   "name": "python",
   "nbconvert_exporter": "python",
   "pygments_lexer": "ipython3",
   "version": "3.9.5"
  },
  "orig_nbformat": 4
 },
 "nbformat": 4,
 "nbformat_minor": 2
}
